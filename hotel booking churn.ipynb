{
 "cells": [
  {
   "cell_type": "code",
   "execution_count": 1,
   "metadata": {
    "_cell_guid": "b1076dfc-b9ad-4769-8c92-a6c4dae69d19",
    "_uuid": "8f2839f25d086af736a60e9eeb907d3b93b6e0e5"
   },
   "outputs": [],
   "source": [
    "# This Python 3 environment comes with many helpful analytics libraries installed\n",
    "# It is defined by the kaggle/python docker image: https://github.com/kaggle/docker-python\n",
    "# For example, here's several helpful packages to load in \n",
    "import warnings\n",
    "warnings.filterwarnings(\"ignore\")\n",
    "import numpy as np # linear algebra\n",
    "import pandas as pd # data processing, CSV file I/O (e.g. pd.read_csv)\n",
    "\n",
    "# Input data files are available in the \"../input/\" directory.\n",
    "# For example, running this (by clicking run or pressing Shift+Enter) will list all files under the input directory\n",
    "\n",
    "import os\n",
    "for dirname, _, filenames in os.walk('/kaggle/input'):\n",
    "    for filename in filenames:\n",
    "        print(os.path.join(dirname, filename))\n",
    "\n",
    "# Any results you write to the current directory are saved as output."
   ]
  },
  {
   "cell_type": "code",
   "execution_count": 2,
   "metadata": {},
   "outputs": [
    {
     "data": {
      "text/html": [
       "<div>\n",
       "<style scoped>\n",
       "    .dataframe tbody tr th:only-of-type {\n",
       "        vertical-align: middle;\n",
       "    }\n",
       "\n",
       "    .dataframe tbody tr th {\n",
       "        vertical-align: top;\n",
       "    }\n",
       "\n",
       "    .dataframe thead th {\n",
       "        text-align: right;\n",
       "    }\n",
       "</style>\n",
       "<table border=\"1\" class=\"dataframe\">\n",
       "  <thead>\n",
       "    <tr style=\"text-align: right;\">\n",
       "      <th></th>\n",
       "      <th>hotel</th>\n",
       "      <th>is_canceled</th>\n",
       "      <th>lead_time</th>\n",
       "      <th>arrival_date_month</th>\n",
       "      <th>arrival_date_week_number</th>\n",
       "      <th>arrival_date_day_of_month</th>\n",
       "      <th>stays_in_weekend_nights</th>\n",
       "      <th>stays_in_week_nights</th>\n",
       "      <th>adults</th>\n",
       "      <th>children</th>\n",
       "      <th>...</th>\n",
       "      <th>reserved_room_type</th>\n",
       "      <th>assigned_room_type</th>\n",
       "      <th>booking_changes</th>\n",
       "      <th>deposit_type</th>\n",
       "      <th>agent</th>\n",
       "      <th>days_in_waiting_list</th>\n",
       "      <th>customer_type</th>\n",
       "      <th>adr</th>\n",
       "      <th>required_car_parking_spaces</th>\n",
       "      <th>total_of_special_requests</th>\n",
       "    </tr>\n",
       "  </thead>\n",
       "  <tbody>\n",
       "    <tr>\n",
       "      <td>0</td>\n",
       "      <td>Resort Hotel</td>\n",
       "      <td>0</td>\n",
       "      <td>342</td>\n",
       "      <td>July</td>\n",
       "      <td>27</td>\n",
       "      <td>1</td>\n",
       "      <td>0</td>\n",
       "      <td>0</td>\n",
       "      <td>2</td>\n",
       "      <td>0.0</td>\n",
       "      <td>...</td>\n",
       "      <td>C</td>\n",
       "      <td>C</td>\n",
       "      <td>3</td>\n",
       "      <td>No Deposit</td>\n",
       "      <td>NaN</td>\n",
       "      <td>0</td>\n",
       "      <td>Transient</td>\n",
       "      <td>0.0</td>\n",
       "      <td>0</td>\n",
       "      <td>0</td>\n",
       "    </tr>\n",
       "    <tr>\n",
       "      <td>1</td>\n",
       "      <td>Resort Hotel</td>\n",
       "      <td>0</td>\n",
       "      <td>737</td>\n",
       "      <td>July</td>\n",
       "      <td>27</td>\n",
       "      <td>1</td>\n",
       "      <td>0</td>\n",
       "      <td>0</td>\n",
       "      <td>2</td>\n",
       "      <td>0.0</td>\n",
       "      <td>...</td>\n",
       "      <td>C</td>\n",
       "      <td>C</td>\n",
       "      <td>4</td>\n",
       "      <td>No Deposit</td>\n",
       "      <td>NaN</td>\n",
       "      <td>0</td>\n",
       "      <td>Transient</td>\n",
       "      <td>0.0</td>\n",
       "      <td>0</td>\n",
       "      <td>0</td>\n",
       "    </tr>\n",
       "    <tr>\n",
       "      <td>2</td>\n",
       "      <td>Resort Hotel</td>\n",
       "      <td>0</td>\n",
       "      <td>7</td>\n",
       "      <td>July</td>\n",
       "      <td>27</td>\n",
       "      <td>1</td>\n",
       "      <td>0</td>\n",
       "      <td>1</td>\n",
       "      <td>1</td>\n",
       "      <td>0.0</td>\n",
       "      <td>...</td>\n",
       "      <td>A</td>\n",
       "      <td>C</td>\n",
       "      <td>0</td>\n",
       "      <td>No Deposit</td>\n",
       "      <td>NaN</td>\n",
       "      <td>0</td>\n",
       "      <td>Transient</td>\n",
       "      <td>75.0</td>\n",
       "      <td>0</td>\n",
       "      <td>0</td>\n",
       "    </tr>\n",
       "    <tr>\n",
       "      <td>3</td>\n",
       "      <td>Resort Hotel</td>\n",
       "      <td>0</td>\n",
       "      <td>13</td>\n",
       "      <td>July</td>\n",
       "      <td>27</td>\n",
       "      <td>1</td>\n",
       "      <td>0</td>\n",
       "      <td>1</td>\n",
       "      <td>1</td>\n",
       "      <td>0.0</td>\n",
       "      <td>...</td>\n",
       "      <td>A</td>\n",
       "      <td>A</td>\n",
       "      <td>0</td>\n",
       "      <td>No Deposit</td>\n",
       "      <td>304.0</td>\n",
       "      <td>0</td>\n",
       "      <td>Transient</td>\n",
       "      <td>75.0</td>\n",
       "      <td>0</td>\n",
       "      <td>0</td>\n",
       "    </tr>\n",
       "    <tr>\n",
       "      <td>4</td>\n",
       "      <td>Resort Hotel</td>\n",
       "      <td>0</td>\n",
       "      <td>14</td>\n",
       "      <td>July</td>\n",
       "      <td>27</td>\n",
       "      <td>1</td>\n",
       "      <td>0</td>\n",
       "      <td>2</td>\n",
       "      <td>2</td>\n",
       "      <td>0.0</td>\n",
       "      <td>...</td>\n",
       "      <td>A</td>\n",
       "      <td>A</td>\n",
       "      <td>0</td>\n",
       "      <td>No Deposit</td>\n",
       "      <td>240.0</td>\n",
       "      <td>0</td>\n",
       "      <td>Transient</td>\n",
       "      <td>98.0</td>\n",
       "      <td>0</td>\n",
       "      <td>1</td>\n",
       "    </tr>\n",
       "  </tbody>\n",
       "</table>\n",
       "<p>5 rows × 28 columns</p>\n",
       "</div>"
      ],
      "text/plain": [
       "          hotel  is_canceled  lead_time arrival_date_month  \\\n",
       "0  Resort Hotel            0        342               July   \n",
       "1  Resort Hotel            0        737               July   \n",
       "2  Resort Hotel            0          7               July   \n",
       "3  Resort Hotel            0         13               July   \n",
       "4  Resort Hotel            0         14               July   \n",
       "\n",
       "   arrival_date_week_number  arrival_date_day_of_month  \\\n",
       "0                        27                          1   \n",
       "1                        27                          1   \n",
       "2                        27                          1   \n",
       "3                        27                          1   \n",
       "4                        27                          1   \n",
       "\n",
       "   stays_in_weekend_nights  stays_in_week_nights  adults  children  ...  \\\n",
       "0                        0                     0       2       0.0  ...   \n",
       "1                        0                     0       2       0.0  ...   \n",
       "2                        0                     1       1       0.0  ...   \n",
       "3                        0                     1       1       0.0  ...   \n",
       "4                        0                     2       2       0.0  ...   \n",
       "\n",
       "   reserved_room_type assigned_room_type booking_changes deposit_type  agent  \\\n",
       "0                   C                  C               3   No Deposit    NaN   \n",
       "1                   C                  C               4   No Deposit    NaN   \n",
       "2                   A                  C               0   No Deposit    NaN   \n",
       "3                   A                  A               0   No Deposit  304.0   \n",
       "4                   A                  A               0   No Deposit  240.0   \n",
       "\n",
       "   days_in_waiting_list  customer_type   adr required_car_parking_spaces  \\\n",
       "0                     0      Transient   0.0                           0   \n",
       "1                     0      Transient   0.0                           0   \n",
       "2                     0      Transient  75.0                           0   \n",
       "3                     0      Transient  75.0                           0   \n",
       "4                     0      Transient  98.0                           0   \n",
       "\n",
       "  total_of_special_requests  \n",
       "0                         0  \n",
       "1                         0  \n",
       "2                         0  \n",
       "3                         0  \n",
       "4                         1  \n",
       "\n",
       "[5 rows x 28 columns]"
      ]
     },
     "execution_count": 2,
     "metadata": {},
     "output_type": "execute_result"
    }
   ],
   "source": [
    "# import data\n",
    "dataset = pd.read_csv('hotel_bookings.csv')\n",
    "\n",
    "# Data prepatation\n",
    "# do not require\n",
    "data = dataset.drop(['arrival_date_year', 'reservation_status', \n",
    "                  'reservation_status_date','company'], axis=1)\n",
    "data.head()\n",
    "# 1 = yes is canceled\n",
    "# 0 = no is not canceled"
   ]
  },
  {
   "cell_type": "markdown",
   "metadata": {},
   "source": [
    "We have 28 features, which gives us information about a customer's hotel booking and 119,390 observations, which are the number of bookings that either had or had not churned."
   ]
  },
  {
   "cell_type": "code",
   "execution_count": 3,
   "metadata": {
    "_cell_guid": "79c7e3d0-c299-4dcb-8224-4455121ee9b0",
    "_uuid": "d629ff2d2480ee46fbb7e2d37f6b5fab8052498a"
   },
   "outputs": [
    {
     "data": {
      "text/plain": [
       "['hotel',\n",
       " 'arrival_date_month',\n",
       " 'meal',\n",
       " 'country',\n",
       " 'market_segment',\n",
       " 'distribution_channel',\n",
       " 'reserved_room_type',\n",
       " 'assigned_room_type',\n",
       " 'deposit_type',\n",
       " 'customer_type']"
      ]
     },
     "execution_count": 3,
     "metadata": {},
     "output_type": "execute_result"
    }
   ],
   "source": [
    "# idfentify which columns must be encoded with dummy variables\n",
    "variables_to_dummy = []\n",
    "for col in data.columns:\n",
    "    if data[col].dtypes != 'int64':\n",
    "        if data[col].dtypes != 'float64':\n",
    "            variables_to_dummy.append(col)\n",
    "variables_to_dummy"
   ]
  },
  {
   "cell_type": "code",
   "execution_count": 4,
   "metadata": {},
   "outputs": [
    {
     "data": {
      "text/plain": [
       "hotel                                 0\n",
       "is_canceled                           0\n",
       "lead_time                             0\n",
       "arrival_date_month                    0\n",
       "arrival_date_week_number              0\n",
       "arrival_date_day_of_month             0\n",
       "stays_in_weekend_nights               0\n",
       "stays_in_week_nights                  0\n",
       "adults                                0\n",
       "children                              4\n",
       "babies                                0\n",
       "meal                                  0\n",
       "country                             488\n",
       "market_segment                        0\n",
       "distribution_channel                  0\n",
       "is_repeated_guest                     0\n",
       "previous_cancellations                0\n",
       "previous_bookings_not_canceled        0\n",
       "reserved_room_type                    0\n",
       "assigned_room_type                    0\n",
       "booking_changes                       0\n",
       "deposit_type                          0\n",
       "agent                             16340\n",
       "days_in_waiting_list                  0\n",
       "customer_type                         0\n",
       "adr                                   0\n",
       "required_car_parking_spaces           0\n",
       "total_of_special_requests             0\n",
       "dtype: int64"
      ]
     },
     "execution_count": 4,
     "metadata": {},
     "output_type": "execute_result"
    }
   ],
   "source": [
    "# identify if na values\n",
    "data.isna().sum()"
   ]
  },
  {
   "cell_type": "code",
   "execution_count": 5,
   "metadata": {},
   "outputs": [
    {
     "data": {
      "text/plain": [
       "children\n",
       "0.0     110796\n",
       "1.0       4861\n",
       "2.0       3652\n",
       "3.0         76\n",
       "10.0         1\n",
       "dtype: int64"
      ]
     },
     "execution_count": 5,
     "metadata": {},
     "output_type": "execute_result"
    }
   ],
   "source": [
    "data.groupby('children').size()"
   ]
  },
  {
   "cell_type": "code",
   "execution_count": 6,
   "metadata": {},
   "outputs": [],
   "source": [
    "# The number children is not even or normally distribution \n",
    "# Therefore we will use the median to replce the na values\n",
    "\n",
    "child_med = data['children'].median() \n",
    "data['children'] = data['children'].fillna(value=child_med)"
   ]
  },
  {
   "cell_type": "code",
   "execution_count": 7,
   "metadata": {},
   "outputs": [
    {
     "data": {
      "text/plain": [
       "hotel                               0\n",
       "is_canceled                         0\n",
       "lead_time                           0\n",
       "arrival_date_month                  0\n",
       "arrival_date_week_number            0\n",
       "arrival_date_day_of_month           0\n",
       "stays_in_weekend_nights             0\n",
       "stays_in_week_nights                0\n",
       "adults                              0\n",
       "children                            0\n",
       "babies                              0\n",
       "meal                                0\n",
       "country                           488\n",
       "market_segment                      0\n",
       "distribution_channel                0\n",
       "is_repeated_guest                   0\n",
       "previous_cancellations              0\n",
       "previous_bookings_not_canceled      0\n",
       "reserved_room_type                  0\n",
       "assigned_room_type                  0\n",
       "booking_changes                     0\n",
       "deposit_type                        0\n",
       "agent                               0\n",
       "days_in_waiting_list                0\n",
       "customer_type                       0\n",
       "adr                                 0\n",
       "required_car_parking_spaces         0\n",
       "total_of_special_requests           0\n",
       "dtype: int64"
      ]
     },
     "execution_count": 7,
     "metadata": {},
     "output_type": "execute_result"
    }
   ],
   "source": [
    "# The values of the agent variable refers to a travel agency's ID\n",
    "#  that made the booking. Therefore we cannot take the median or mean\n",
    "#  We will input 0 for no agency.\n",
    "\n",
    "data['agent'] = data['agent'].fillna(value=0)\n",
    "\n",
    "data.isna().sum() # dummy variables will take care of the na values in country"
   ]
  },
  {
   "cell_type": "code",
   "execution_count": 8,
   "metadata": {},
   "outputs": [],
   "source": [
    "variables_to_dummy = []\n",
    "for col in data.columns:\n",
    "    if data[col].dtypes == 'object':\n",
    "        variables_to_dummy.append(col)\n",
    "\n",
    "\n",
    "for var in variables_to_dummy:\n",
    "    data[var] = pd.get_dummies(data[var])"
   ]
  },
  {
   "cell_type": "code",
   "execution_count": 9,
   "metadata": {},
   "outputs": [
    {
     "name": "stdout",
     "output_type": "stream",
     "text": [
      "-6.38  in column adr\n"
     ]
    }
   ],
   "source": [
    "for col in data.columns:\n",
    "    for entry in data[col]:\n",
    "        if entry < 0:\n",
    "            print(entry, \" in column\", col) \n",
    "            # we see there is indeed a negative value in adr"
   ]
  },
  {
   "cell_type": "markdown",
   "metadata": {},
   "source": [
    "adr stands for Average Daily Rate, which is defined by dividing the sum of all lodging transactions by the total number of staying nights. Therefore this must have been an error either when inputing the data or when the adr was calculated. Therefore we will assume the numerical value is correct and make it positive."
   ]
  },
  {
   "cell_type": "code",
   "execution_count": 10,
   "metadata": {},
   "outputs": [
    {
     "data": {
      "text/plain": [
       "False"
      ]
     },
     "execution_count": 10,
     "metadata": {},
     "output_type": "execute_result"
    }
   ],
   "source": [
    "data['adr'] = data['adr'].abs()\n",
    "any(data['adr'] < 0)"
   ]
  },
  {
   "cell_type": "code",
   "execution_count": 11,
   "metadata": {},
   "outputs": [
    {
     "name": "stdout",
     "output_type": "stream",
     "text": [
      "(119390, 27)\n",
      "(119390,)\n"
     ]
    }
   ],
   "source": [
    "from sklearn.model_selection import train_test_split\n",
    "\n",
    "X = data.drop(['is_canceled'], axis=1)\n",
    "Y = data['is_canceled']\n",
    "print(X.shape)\n",
    "print(Y.shape)\n",
    "\n",
    "x_train, x_test, y_train, y_test = train_test_split(X, Y, test_size=0.50, random_state=66)"
   ]
  },
  {
   "cell_type": "markdown",
   "metadata": {},
   "source": [
    "## Logistic Model"
   ]
  },
  {
   "cell_type": "code",
   "execution_count": 12,
   "metadata": {},
   "outputs": [],
   "source": [
    "# Logistic Regression Model\n",
    "from sklearn.linear_model import LogisticRegression\n",
    "\n",
    "log_model = LogisticRegression().fit(x_train, y_train)\n",
    "\n",
    "log_predict = log_model.predict(x_test)"
   ]
  },
  {
   "cell_type": "code",
   "execution_count": 13,
   "metadata": {
    "scrolled": true
   },
   "outputs": [
    {
     "name": "stdout",
     "output_type": "stream",
     "text": [
      "Model's Accuracy: 0.78  Model's Precision: 0.86\n"
     ]
    }
   ],
   "source": [
    "from sklearn import metrics\n",
    "\n",
    "log_accuracy = metrics.accuracy_score(y_test, log_predict)\n",
    "log_precision = metrics.precision_score(y_test, log_predict)\n",
    "\n",
    "print(\"Model's Accuracy: {}  Model's Precision: {}\".format(\n",
    "    round(log_accuracy,2), round(log_precision,2)))"
   ]
  },
  {
   "cell_type": "code",
   "execution_count": 14,
   "metadata": {},
   "outputs": [
    {
     "name": "stdout",
     "output_type": "stream",
     "text": [
      "              precision    recall  f1-score   support\n",
      "\n",
      "           0       0.76      0.95      0.84     37681\n",
      "           1       0.86      0.48      0.61     22014\n",
      "\n",
      "    accuracy                           0.78     59695\n",
      "   macro avg       0.81      0.72      0.73     59695\n",
      "weighted avg       0.80      0.78      0.76     59695\n",
      "\n"
     ]
    }
   ],
   "source": [
    "print(metrics.classification_report(y_test, log_predict))"
   ]
  },
  {
   "cell_type": "markdown",
   "metadata": {},
   "source": [
    "## Support Vector Machine"
   ]
  },
  {
   "cell_type": "code",
   "execution_count": 15,
   "metadata": {},
   "outputs": [
    {
     "name": "stdout",
     "output_type": "stream",
     "text": [
      "Model's Accuracy: 0.73  Model's Precision: 0.85\n"
     ]
    }
   ],
   "source": [
    "# Support Vector Machine Model\n",
    "\n",
    "from sklearn.svm import LinearSVC\n",
    "\n",
    "svm_model = LinearSVC(random_state = 100).fit(x_train, y_train)\n",
    "svm_predict = svm_model.predict(x_test)\n",
    "\n",
    "svm_accuracy = metrics.accuracy_score(y_test, svm_predict)\n",
    "svm_precision = metrics.precision_score(y_test, svm_predict)\n",
    "\n",
    "print(\"Model's Accuracy: {}  Model's Precision: {}\".format(\n",
    "    round(svm_accuracy,2), round(svm_precision,2)))\n"
   ]
  },
  {
   "cell_type": "code",
   "execution_count": 16,
   "metadata": {},
   "outputs": [
    {
     "name": "stdout",
     "output_type": "stream",
     "text": [
      "              precision    recall  f1-score   support\n",
      "\n",
      "           0       0.71      0.97      0.82     37681\n",
      "           1       0.85      0.31      0.45     22014\n",
      "\n",
      "    accuracy                           0.73     59695\n",
      "   macro avg       0.78      0.64      0.63     59695\n",
      "weighted avg       0.76      0.73      0.68     59695\n",
      "\n"
     ]
    }
   ],
   "source": [
    "print(metrics.classification_report(y_test, svm_predict))"
   ]
  },
  {
   "cell_type": "markdown",
   "metadata": {},
   "source": [
    "## Naive Bayes"
   ]
  },
  {
   "cell_type": "code",
   "execution_count": 17,
   "metadata": {},
   "outputs": [
    {
     "name": "stdout",
     "output_type": "stream",
     "text": [
      "Model's Accuracy: 0.64  Model's Precision: 0.51\n"
     ]
    }
   ],
   "source": [
    "from sklearn.naive_bayes import MultinomialNB\n",
    "\n",
    "nb_model = MultinomialNB().fit(x_train, y_train)\n",
    "nb_predict = nb_model.predict(x_test)\n",
    "\n",
    "nb_accuracy = metrics.accuracy_score(y_test, nb_predict)\n",
    "nb_precision = metrics.precision_score(y_test, nb_predict)\n",
    "\n",
    "print(\"Model's Accuracy: {}  Model's Precision: {}\".format(\n",
    "    round(nb_accuracy,2), round(nb_precision,2)))"
   ]
  },
  {
   "cell_type": "code",
   "execution_count": 18,
   "metadata": {
    "scrolled": true
   },
   "outputs": [
    {
     "name": "stdout",
     "output_type": "stream",
     "text": [
      "              precision    recall  f1-score   support\n",
      "\n",
      "           0       0.73      0.69      0.71     37681\n",
      "           1       0.51      0.56      0.53     22014\n",
      "\n",
      "    accuracy                           0.64     59695\n",
      "   macro avg       0.62      0.62      0.62     59695\n",
      "weighted avg       0.65      0.64      0.64     59695\n",
      "\n"
     ]
    }
   ],
   "source": [
    "print(metrics.classification_report(y_test, nb_predict))"
   ]
  },
  {
   "cell_type": "markdown",
   "metadata": {},
   "source": [
    "The naive bayes model has the least accuracy and precision. This is due to the underlying assumption that each feature is independent, hence is naive. "
   ]
  },
  {
   "cell_type": "markdown",
   "metadata": {},
   "source": [
    "## Conclusion\n",
    "\n",
    "We will prefer to perform the the logistic regression. We were able to predict the cancellation of a booking with 78% accuracy and 86% precision.\n",
    "\n"
   ]
  },
  {
   "cell_type": "code",
   "execution_count": 19,
   "metadata": {},
   "outputs": [
    {
     "data": {
      "text/html": [
       "<div>\n",
       "<style scoped>\n",
       "    .dataframe tbody tr th:only-of-type {\n",
       "        vertical-align: middle;\n",
       "    }\n",
       "\n",
       "    .dataframe tbody tr th {\n",
       "        vertical-align: top;\n",
       "    }\n",
       "\n",
       "    .dataframe thead th {\n",
       "        text-align: right;\n",
       "    }\n",
       "</style>\n",
       "<table border=\"1\" class=\"dataframe\">\n",
       "  <thead>\n",
       "    <tr style=\"text-align: right;\">\n",
       "      <th></th>\n",
       "      <th>0</th>\n",
       "    </tr>\n",
       "  </thead>\n",
       "  <tbody>\n",
       "    <tr>\n",
       "      <td>0</td>\n",
       "      <td>1.0</td>\n",
       "    </tr>\n",
       "    <tr>\n",
       "      <td>1</td>\n",
       "      <td>1.0</td>\n",
       "    </tr>\n",
       "    <tr>\n",
       "      <td>2</td>\n",
       "      <td>1.0</td>\n",
       "    </tr>\n",
       "    <tr>\n",
       "      <td>3</td>\n",
       "      <td>1.0</td>\n",
       "    </tr>\n",
       "    <tr>\n",
       "      <td>4</td>\n",
       "      <td>1.0</td>\n",
       "    </tr>\n",
       "    <tr>\n",
       "      <td>5</td>\n",
       "      <td>0.0</td>\n",
       "    </tr>\n",
       "    <tr>\n",
       "      <td>6</td>\n",
       "      <td>1.0</td>\n",
       "    </tr>\n",
       "    <tr>\n",
       "      <td>7</td>\n",
       "      <td>1.0</td>\n",
       "    </tr>\n",
       "    <tr>\n",
       "      <td>8</td>\n",
       "      <td>1.0</td>\n",
       "    </tr>\n",
       "    <tr>\n",
       "      <td>9</td>\n",
       "      <td>1.0</td>\n",
       "    </tr>\n",
       "  </tbody>\n",
       "</table>\n",
       "</div>"
      ],
      "text/plain": [
       "     0\n",
       "0  1.0\n",
       "1  1.0\n",
       "2  1.0\n",
       "3  1.0\n",
       "4  1.0\n",
       "5  0.0\n",
       "6  1.0\n",
       "7  1.0\n",
       "8  1.0\n",
       "9  1.0"
      ]
     },
     "execution_count": 19,
     "metadata": {},
     "output_type": "execute_result"
    }
   ],
   "source": [
    "# random test sample\n",
    "c = np.empty(10)\n",
    "random_sample = pd.DataFrame(np.random.randn(10,27))\n",
    "for i in range(10000):\n",
    "    c += log_model.predict(random_sample)\n",
    "c = pd.DataFrame(np.round(c/10000))\n",
    "c"
   ]
  },
  {
   "cell_type": "markdown",
   "metadata": {},
   "source": [
    "We found 10,000 and found the average outcome for each observation.\n",
    "\n",
    "Therefore the random sample has the above outcomes "
   ]
  },
  {
   "cell_type": "code",
   "execution_count": 20,
   "metadata": {},
   "outputs": [
    {
     "data": {
      "text/html": [
       "<div>\n",
       "<style scoped>\n",
       "    .dataframe tbody tr th:only-of-type {\n",
       "        vertical-align: middle;\n",
       "    }\n",
       "\n",
       "    .dataframe tbody tr th {\n",
       "        vertical-align: top;\n",
       "    }\n",
       "\n",
       "    .dataframe thead th {\n",
       "        text-align: right;\n",
       "    }\n",
       "</style>\n",
       "<table border=\"1\" class=\"dataframe\">\n",
       "  <thead>\n",
       "    <tr style=\"text-align: right;\">\n",
       "      <th></th>\n",
       "      <th>0</th>\n",
       "      <th>1</th>\n",
       "      <th>2</th>\n",
       "      <th>3</th>\n",
       "      <th>4</th>\n",
       "      <th>5</th>\n",
       "      <th>6</th>\n",
       "      <th>7</th>\n",
       "      <th>8</th>\n",
       "      <th>9</th>\n",
       "      <th>...</th>\n",
       "      <th>18</th>\n",
       "      <th>19</th>\n",
       "      <th>20</th>\n",
       "      <th>21</th>\n",
       "      <th>22</th>\n",
       "      <th>23</th>\n",
       "      <th>24</th>\n",
       "      <th>25</th>\n",
       "      <th>26</th>\n",
       "      <th>Outcomes</th>\n",
       "    </tr>\n",
       "  </thead>\n",
       "  <tbody>\n",
       "    <tr>\n",
       "      <td>0</td>\n",
       "      <td>-1.048237</td>\n",
       "      <td>-1.177850</td>\n",
       "      <td>-0.329690</td>\n",
       "      <td>-0.748837</td>\n",
       "      <td>-0.955762</td>\n",
       "      <td>-0.999233</td>\n",
       "      <td>1.580258</td>\n",
       "      <td>0.249086</td>\n",
       "      <td>-0.419160</td>\n",
       "      <td>0.233989</td>\n",
       "      <td>...</td>\n",
       "      <td>-0.239598</td>\n",
       "      <td>1.669945</td>\n",
       "      <td>-1.046360</td>\n",
       "      <td>0.944464</td>\n",
       "      <td>-1.151080</td>\n",
       "      <td>-0.433002</td>\n",
       "      <td>0.551311</td>\n",
       "      <td>-0.716123</td>\n",
       "      <td>-0.509917</td>\n",
       "      <td>1.0</td>\n",
       "    </tr>\n",
       "    <tr>\n",
       "      <td>1</td>\n",
       "      <td>-0.257313</td>\n",
       "      <td>0.655195</td>\n",
       "      <td>-1.925731</td>\n",
       "      <td>-0.301612</td>\n",
       "      <td>1.137402</td>\n",
       "      <td>0.331732</td>\n",
       "      <td>0.125353</td>\n",
       "      <td>-0.129178</td>\n",
       "      <td>-2.176710</td>\n",
       "      <td>-2.027929</td>\n",
       "      <td>...</td>\n",
       "      <td>0.769063</td>\n",
       "      <td>0.679052</td>\n",
       "      <td>-0.163749</td>\n",
       "      <td>-1.330961</td>\n",
       "      <td>-1.149445</td>\n",
       "      <td>0.571356</td>\n",
       "      <td>-0.263973</td>\n",
       "      <td>1.009266</td>\n",
       "      <td>-2.432030</td>\n",
       "      <td>1.0</td>\n",
       "    </tr>\n",
       "    <tr>\n",
       "      <td>2</td>\n",
       "      <td>0.716879</td>\n",
       "      <td>0.952129</td>\n",
       "      <td>-1.299806</td>\n",
       "      <td>-0.777211</td>\n",
       "      <td>-0.825972</td>\n",
       "      <td>-0.112118</td>\n",
       "      <td>0.360696</td>\n",
       "      <td>-0.449561</td>\n",
       "      <td>-0.290327</td>\n",
       "      <td>-0.640328</td>\n",
       "      <td>...</td>\n",
       "      <td>1.531359</td>\n",
       "      <td>-1.358935</td>\n",
       "      <td>1.389547</td>\n",
       "      <td>0.577456</td>\n",
       "      <td>-1.635252</td>\n",
       "      <td>-1.918095</td>\n",
       "      <td>0.239007</td>\n",
       "      <td>-0.774840</td>\n",
       "      <td>-0.595975</td>\n",
       "      <td>1.0</td>\n",
       "    </tr>\n",
       "    <tr>\n",
       "      <td>3</td>\n",
       "      <td>-0.135839</td>\n",
       "      <td>-0.886511</td>\n",
       "      <td>-0.282536</td>\n",
       "      <td>1.032870</td>\n",
       "      <td>-0.547754</td>\n",
       "      <td>0.626721</td>\n",
       "      <td>-0.211959</td>\n",
       "      <td>-0.842537</td>\n",
       "      <td>-2.243985</td>\n",
       "      <td>-0.352186</td>\n",
       "      <td>...</td>\n",
       "      <td>1.654057</td>\n",
       "      <td>-0.674402</td>\n",
       "      <td>-0.977155</td>\n",
       "      <td>1.553090</td>\n",
       "      <td>-1.198917</td>\n",
       "      <td>1.005157</td>\n",
       "      <td>1.365722</td>\n",
       "      <td>0.831526</td>\n",
       "      <td>0.641112</td>\n",
       "      <td>1.0</td>\n",
       "    </tr>\n",
       "    <tr>\n",
       "      <td>4</td>\n",
       "      <td>-1.968738</td>\n",
       "      <td>-0.222509</td>\n",
       "      <td>1.226401</td>\n",
       "      <td>-1.460575</td>\n",
       "      <td>-0.689895</td>\n",
       "      <td>0.046385</td>\n",
       "      <td>2.067285</td>\n",
       "      <td>-1.166776</td>\n",
       "      <td>-0.886518</td>\n",
       "      <td>0.546649</td>\n",
       "      <td>...</td>\n",
       "      <td>0.853525</td>\n",
       "      <td>1.787272</td>\n",
       "      <td>-1.221759</td>\n",
       "      <td>-1.775975</td>\n",
       "      <td>0.239565</td>\n",
       "      <td>1.358041</td>\n",
       "      <td>0.691665</td>\n",
       "      <td>-1.551293</td>\n",
       "      <td>-1.373329</td>\n",
       "      <td>1.0</td>\n",
       "    </tr>\n",
       "    <tr>\n",
       "      <td>5</td>\n",
       "      <td>0.412734</td>\n",
       "      <td>-0.059597</td>\n",
       "      <td>0.812127</td>\n",
       "      <td>0.430077</td>\n",
       "      <td>-0.804504</td>\n",
       "      <td>-0.678329</td>\n",
       "      <td>-0.777020</td>\n",
       "      <td>-0.889431</td>\n",
       "      <td>0.937193</td>\n",
       "      <td>1.166420</td>\n",
       "      <td>...</td>\n",
       "      <td>-0.427630</td>\n",
       "      <td>0.390631</td>\n",
       "      <td>0.198810</td>\n",
       "      <td>-0.911257</td>\n",
       "      <td>0.051544</td>\n",
       "      <td>-0.571777</td>\n",
       "      <td>-2.796424</td>\n",
       "      <td>1.304923</td>\n",
       "      <td>0.144336</td>\n",
       "      <td>0.0</td>\n",
       "    </tr>\n",
       "    <tr>\n",
       "      <td>6</td>\n",
       "      <td>0.279964</td>\n",
       "      <td>0.337231</td>\n",
       "      <td>0.639461</td>\n",
       "      <td>-0.022194</td>\n",
       "      <td>-2.773315</td>\n",
       "      <td>-0.636106</td>\n",
       "      <td>-0.966522</td>\n",
       "      <td>0.809911</td>\n",
       "      <td>-1.542868</td>\n",
       "      <td>1.093192</td>\n",
       "      <td>...</td>\n",
       "      <td>-0.174682</td>\n",
       "      <td>0.567916</td>\n",
       "      <td>-1.262827</td>\n",
       "      <td>-0.873806</td>\n",
       "      <td>0.282866</td>\n",
       "      <td>-0.217693</td>\n",
       "      <td>-0.066034</td>\n",
       "      <td>-0.516735</td>\n",
       "      <td>1.263125</td>\n",
       "      <td>1.0</td>\n",
       "    </tr>\n",
       "    <tr>\n",
       "      <td>7</td>\n",
       "      <td>-1.685336</td>\n",
       "      <td>-0.888158</td>\n",
       "      <td>1.270165</td>\n",
       "      <td>-2.118234</td>\n",
       "      <td>0.476207</td>\n",
       "      <td>1.798417</td>\n",
       "      <td>0.588514</td>\n",
       "      <td>0.935210</td>\n",
       "      <td>0.718441</td>\n",
       "      <td>-0.874753</td>\n",
       "      <td>...</td>\n",
       "      <td>0.191026</td>\n",
       "      <td>-0.097678</td>\n",
       "      <td>0.948530</td>\n",
       "      <td>-0.564917</td>\n",
       "      <td>1.987756</td>\n",
       "      <td>-1.515568</td>\n",
       "      <td>-1.009646</td>\n",
       "      <td>0.143584</td>\n",
       "      <td>0.145343</td>\n",
       "      <td>1.0</td>\n",
       "    </tr>\n",
       "    <tr>\n",
       "      <td>8</td>\n",
       "      <td>-0.421291</td>\n",
       "      <td>0.828956</td>\n",
       "      <td>-0.048193</td>\n",
       "      <td>-0.017411</td>\n",
       "      <td>-0.638772</td>\n",
       "      <td>-0.099717</td>\n",
       "      <td>1.429507</td>\n",
       "      <td>0.229740</td>\n",
       "      <td>-0.579539</td>\n",
       "      <td>-0.499456</td>\n",
       "      <td>...</td>\n",
       "      <td>-0.578696</td>\n",
       "      <td>0.160309</td>\n",
       "      <td>-0.080859</td>\n",
       "      <td>-0.924045</td>\n",
       "      <td>-2.416119</td>\n",
       "      <td>-0.471987</td>\n",
       "      <td>-0.219674</td>\n",
       "      <td>-3.224725</td>\n",
       "      <td>0.401374</td>\n",
       "      <td>1.0</td>\n",
       "    </tr>\n",
       "    <tr>\n",
       "      <td>9</td>\n",
       "      <td>-0.087126</td>\n",
       "      <td>-0.625807</td>\n",
       "      <td>-0.092286</td>\n",
       "      <td>0.120264</td>\n",
       "      <td>0.495730</td>\n",
       "      <td>-0.059712</td>\n",
       "      <td>0.484740</td>\n",
       "      <td>0.006047</td>\n",
       "      <td>-0.065243</td>\n",
       "      <td>-0.775925</td>\n",
       "      <td>...</td>\n",
       "      <td>1.107085</td>\n",
       "      <td>0.587883</td>\n",
       "      <td>-0.514010</td>\n",
       "      <td>-0.227971</td>\n",
       "      <td>0.580632</td>\n",
       "      <td>0.524439</td>\n",
       "      <td>0.261398</td>\n",
       "      <td>0.515177</td>\n",
       "      <td>1.380158</td>\n",
       "      <td>1.0</td>\n",
       "    </tr>\n",
       "  </tbody>\n",
       "</table>\n",
       "<p>10 rows × 28 columns</p>\n",
       "</div>"
      ],
      "text/plain": [
       "          0         1         2         3         4         5         6  \\\n",
       "0 -1.048237 -1.177850 -0.329690 -0.748837 -0.955762 -0.999233  1.580258   \n",
       "1 -0.257313  0.655195 -1.925731 -0.301612  1.137402  0.331732  0.125353   \n",
       "2  0.716879  0.952129 -1.299806 -0.777211 -0.825972 -0.112118  0.360696   \n",
       "3 -0.135839 -0.886511 -0.282536  1.032870 -0.547754  0.626721 -0.211959   \n",
       "4 -1.968738 -0.222509  1.226401 -1.460575 -0.689895  0.046385  2.067285   \n",
       "5  0.412734 -0.059597  0.812127  0.430077 -0.804504 -0.678329 -0.777020   \n",
       "6  0.279964  0.337231  0.639461 -0.022194 -2.773315 -0.636106 -0.966522   \n",
       "7 -1.685336 -0.888158  1.270165 -2.118234  0.476207  1.798417  0.588514   \n",
       "8 -0.421291  0.828956 -0.048193 -0.017411 -0.638772 -0.099717  1.429507   \n",
       "9 -0.087126 -0.625807 -0.092286  0.120264  0.495730 -0.059712  0.484740   \n",
       "\n",
       "          7         8         9  ...        18        19        20        21  \\\n",
       "0  0.249086 -0.419160  0.233989  ... -0.239598  1.669945 -1.046360  0.944464   \n",
       "1 -0.129178 -2.176710 -2.027929  ...  0.769063  0.679052 -0.163749 -1.330961   \n",
       "2 -0.449561 -0.290327 -0.640328  ...  1.531359 -1.358935  1.389547  0.577456   \n",
       "3 -0.842537 -2.243985 -0.352186  ...  1.654057 -0.674402 -0.977155  1.553090   \n",
       "4 -1.166776 -0.886518  0.546649  ...  0.853525  1.787272 -1.221759 -1.775975   \n",
       "5 -0.889431  0.937193  1.166420  ... -0.427630  0.390631  0.198810 -0.911257   \n",
       "6  0.809911 -1.542868  1.093192  ... -0.174682  0.567916 -1.262827 -0.873806   \n",
       "7  0.935210  0.718441 -0.874753  ...  0.191026 -0.097678  0.948530 -0.564917   \n",
       "8  0.229740 -0.579539 -0.499456  ... -0.578696  0.160309 -0.080859 -0.924045   \n",
       "9  0.006047 -0.065243 -0.775925  ...  1.107085  0.587883 -0.514010 -0.227971   \n",
       "\n",
       "         22        23        24        25        26  Outcomes  \n",
       "0 -1.151080 -0.433002  0.551311 -0.716123 -0.509917       1.0  \n",
       "1 -1.149445  0.571356 -0.263973  1.009266 -2.432030       1.0  \n",
       "2 -1.635252 -1.918095  0.239007 -0.774840 -0.595975       1.0  \n",
       "3 -1.198917  1.005157  1.365722  0.831526  0.641112       1.0  \n",
       "4  0.239565  1.358041  0.691665 -1.551293 -1.373329       1.0  \n",
       "5  0.051544 -0.571777 -2.796424  1.304923  0.144336       0.0  \n",
       "6  0.282866 -0.217693 -0.066034 -0.516735  1.263125       1.0  \n",
       "7  1.987756 -1.515568 -1.009646  0.143584  0.145343       1.0  \n",
       "8 -2.416119 -0.471987 -0.219674 -3.224725  0.401374       1.0  \n",
       "9  0.580632  0.524439  0.261398  0.515177  1.380158       1.0  \n",
       "\n",
       "[10 rows x 28 columns]"
      ]
     },
     "execution_count": 20,
     "metadata": {},
     "output_type": "execute_result"
    }
   ],
   "source": [
    "random_sample['Outcomes'] = c\n",
    "random_sample"
   ]
  }
 ],
 "metadata": {
  "kernelspec": {
   "display_name": "Python 3",
   "language": "python",
   "name": "python3"
  },
  "language_info": {
   "codemirror_mode": {
    "name": "ipython",
    "version": 3
   },
   "file_extension": ".py",
   "mimetype": "text/x-python",
   "name": "python",
   "nbconvert_exporter": "python",
   "pygments_lexer": "ipython3",
   "version": "3.7.4"
  }
 },
 "nbformat": 4,
 "nbformat_minor": 4
}
