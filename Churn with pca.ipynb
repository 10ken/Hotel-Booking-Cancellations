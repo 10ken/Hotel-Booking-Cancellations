{
 "cells": [
  {
   "cell_type": "code",
   "execution_count": 1,
   "metadata": {},
   "outputs": [],
   "source": [
    "import numpy as np # linear algebra\n",
    "import pandas as pd # data processing, CSV file I/O (e.g. pd.read_csv)\n",
    "import matplotlib.pyplot as plt\n",
    "from sklearn.model_selection import train_test_split\n",
    "from sklearn import metrics\n",
    "\n",
    "dataset = pd.read_csv('hotel_bookings.csv')\n",
    "\n",
    "# Data prepatation\n",
    "# do not require ['arrival_date_year', 'reservation_status', \n",
    "#                 'reservation_status_date','company']\n",
    "data = dataset.drop(['arrival_date_year', 'reservation_status', \n",
    "                  'reservation_status_date','company'], axis=1)\n",
    "\n",
    "# idfentify which columns must be encoded with dummy variables\n",
    "variables_to_dummy = []\n",
    "for col in data.columns:\n",
    "    if data[col].dtypes != 'int64':\n",
    "        if data[col].dtypes != 'float64':\n",
    "            variables_to_dummy.append(col)\n",
    "            \n",
    "child_med = data['children'].median() \n",
    "data['children'] = data['children'].fillna(value=child_med)\n",
    "\n",
    "data['agent'] = data['agent'].fillna(value=0)\n",
    "\n",
    "variables_to_dummy = []\n",
    "for col in data.columns:\n",
    "    if data[col].dtypes != 'int64':\n",
    "        if data[col].dtypes != 'float64':\n",
    "            variables_to_dummy.append(col)\n",
    "\n",
    "\n",
    "for var in variables_to_dummy:\n",
    "    data[var] = pd.get_dummies(data[var])\n",
    "    \n",
    "data['adr'] = data['adr'].abs()\n",
    "\n"
   ]
  },
  {
   "cell_type": "code",
   "execution_count": 2,
   "metadata": {},
   "outputs": [
    {
     "data": {
      "text/plain": [
       "(119390, 28)"
      ]
     },
     "execution_count": 2,
     "metadata": {},
     "output_type": "execute_result"
    }
   ],
   "source": [
    "data.shape"
   ]
  },
  {
   "cell_type": "markdown",
   "metadata": {},
   "source": [
    "We have 28 features. We want to identify how many features we really need to maximize our accuracy of predicting whether a booking will be cancelled. We will plot the variance explained by 1 to 28 components and find the best number of components required."
   ]
  },
  {
   "cell_type": "code",
   "execution_count": 3,
   "metadata": {},
   "outputs": [
    {
     "data": {
      "image/png": "[encoded data removed]",
      "text/plain": [
       "<Figure size 432x288 with 1 Axes>"
      ]
     },
     "metadata": {
      "needs_background": "light"
     },
     "output_type": "display_data"
    }
   ],
   "source": [
    "from sklearn.decomposition import PCA\n",
    "from sklearn.preprocessing import MinMaxScaler\n",
    "\n",
    "scaler = MinMaxScaler(feature_range=[0, 1])\n",
    "data_rescaled = scaler.fit_transform(data)\n",
    "\n",
    "#Fitting the PCA algorithm with our Data\n",
    "pca = PCA().fit(data_rescaled)\n",
    "#Plotting the Cumulative Summation of the Explained Variance\n",
    "plt.figure()\n",
    "plt.plot(np.cumsum(pca.explained_variance_ratio_))\n",
    "plt.xlabel('Number of Components')\n",
    "plt.ylabel('Variance (%)') #for each component\n",
    "plt.title('Hotel Booking Dataset Explained Variance')\n",
    "plt.show()\n"
   ]
  },
  {
   "cell_type": "markdown",
   "metadata": {},
   "source": [
    "From our plot, we required approximately 14 components"
   ]
  },
  {
   "cell_type": "code",
   "execution_count": 4,
   "metadata": {},
   "outputs": [
    {
     "name": "stdout",
     "output_type": "stream",
     "text": [
      "(119390, 27)\n",
      "(119390,)\n"
     ]
    }
   ],
   "source": [
    "# normalize data\n",
    "from sklearn import preprocessing\n",
    "from sklearn.decomposition import PCA\n",
    "data_scaled = pd.DataFrame(preprocessing.scale(data),columns = data.columns) \n",
    "\n",
    "# PCA\n",
    "pca = PCA(n_components=14)\n",
    "pca_val = pca.fit_transform(data_scaled)\n",
    "pca_dataset = pd.DataFrame(pca_val)\n",
    "\n",
    "\n",
    "X = data.drop(['is_canceled'], axis=1)\n",
    "Y = data['is_canceled']\n",
    "print(X.shape)\n",
    "print(Y.shape)\n",
    "\n",
    "x_train, x_test, y_train, y_test = train_test_split(X, Y, test_size=0.20, random_state=66)"
   ]
  },
  {
   "cell_type": "code",
   "execution_count": 5,
   "metadata": {},
   "outputs": [],
   "source": [
    "import warnings\n",
    "warnings.filterwarnings(\"ignore\")"
   ]
  },
  {
   "cell_type": "code",
   "execution_count": 6,
   "metadata": {},
   "outputs": [
    {
     "name": "stdout",
     "output_type": "stream",
     "text": [
      "Model's Accuracy: 0.7774  Model's Precision: 0.8538\n"
     ]
    }
   ],
   "source": [
    "# Logistic Regression Model\n",
    "from sklearn.linear_model import LogisticRegression\n",
    "\n",
    "log_model = LogisticRegression().fit(x_train, y_train)\n",
    "\n",
    "log_predict = log_model.predict(x_test)\n",
    "\n",
    "log_accuracy = metrics.accuracy_score(y_test, log_predict)\n",
    "log_precision = metrics.precision_score(y_test, log_predict)\n",
    "\n",
    "print(\"Model's Accuracy: {}  Model's Precision: {}\".format(\n",
    "    round(log_accuracy,4), round(log_precision,4)))"
   ]
  },
  {
   "cell_type": "code",
   "execution_count": 7,
   "metadata": {},
   "outputs": [
    {
     "name": "stdout",
     "output_type": "stream",
     "text": [
      "              precision    recall  f1-score   support\n",
      "\n",
      "           0       0.76      0.95      0.84     15089\n",
      "           1       0.85      0.48      0.61      8789\n",
      "\n",
      "    accuracy                           0.78     23878\n",
      "   macro avg       0.81      0.71      0.73     23878\n",
      "weighted avg       0.79      0.78      0.76     23878\n",
      "\n"
     ]
    }
   ],
   "source": [
    "print(metrics.classification_report(y_test, log_predict))"
   ]
  },
  {
   "cell_type": "markdown",
   "metadata": {},
   "source": [
    "We see when we chose 14 principal components, the accuracy and precision when down only by a little. When I chose 20 principal components, the result was the same as 14 components. PCA is not the best approach for this problem."
   ]
  },
  {
   "cell_type": "code",
   "execution_count": 8,
   "metadata": {},
   "outputs": [],
   "source": [
    "# Support Vector Machine Model\n",
    "\n",
    "from sklearn.svm import LinearSVC\n",
    "\n",
    "svm_model = LinearSVC(random_state = 100).fit(x_train, y_train)\n",
    "svm_predict = svm_model.predict(x_test)\n"
   ]
  },
  {
   "cell_type": "code",
   "execution_count": 9,
   "metadata": {},
   "outputs": [
    {
     "name": "stdout",
     "output_type": "stream",
     "text": [
      "Model's Accuracy: 0.7342  Model's Precision: 0.9685\n"
     ]
    }
   ],
   "source": [
    "svm_accuracy = metrics.accuracy_score(y_test, svm_predict)\n",
    "svm_precision = metrics.precision_score(y_test, svm_predict)\n",
    "\n",
    "print(\"Model's Accuracy: {}  Model's Precision: {}\".format(\n",
    "    round(svm_accuracy,4), round(svm_precision,4)))\n"
   ]
  },
  {
   "cell_type": "code",
   "execution_count": 10,
   "metadata": {},
   "outputs": [
    {
     "name": "stdout",
     "output_type": "stream",
     "text": [
      "              precision    recall  f1-score   support\n",
      "\n",
      "           0       0.71      0.99      0.83     15089\n",
      "           1       0.97      0.29      0.44      8789\n",
      "\n",
      "    accuracy                           0.73     23878\n",
      "   macro avg       0.84      0.64      0.63     23878\n",
      "weighted avg       0.80      0.73      0.68     23878\n",
      "\n"
     ]
    }
   ],
   "source": [
    "print(metrics.classification_report(y_test, svm_predict))"
   ]
  },
  {
   "cell_type": "markdown",
   "metadata": {},
   "source": [
    "We want to investigate if PCA had an impact on the SVM model. Once again, there is no significant chance in the accuracy. However, the precision has a significant increase of approxiamtely 11%."
   ]
  }
 ],
 "metadata": {
  "kernelspec": {
   "display_name": "Python 3",
   "language": "python",
   "name": "python3"
  },
  "language_info": {
   "codemirror_mode": {
    "name": "ipython",
    "version": 3
   },
   "file_extension": ".py",
   "mimetype": "text/x-python",
   "name": "python",
   "nbconvert_exporter": "python",
   "pygments_lexer": "ipython3",
   "version": "3.7.4"
  }
 },
 "nbformat": 4,
 "nbformat_minor": 2
}
